{
 "cells": [
  {
   "cell_type": "code",
   "execution_count": null,
   "id": "497b63fb",
   "metadata": {},
   "outputs": [],
   "source": [
    "from rm_python_lib.MechDesign import RnM\n"
   ]
  }
 ],
 "metadata": {
  "language_info": {
   "name": "python"
  }
 },
 "nbformat": 4,
 "nbformat_minor": 5
}
